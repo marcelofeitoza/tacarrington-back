{
 "cells": [
  {
   "cell_type": "markdown",
   "metadata": {},
   "source": [
    "# Sun storm predictor - NASA Space Apps "
   ]
  },
  {
   "cell_type": "markdown",
   "metadata": {},
   "source": [
    "## Participants\n",
    "- Felipe Saadi\n",
    "- Gabriel Caetano\n",
    "- Luiz Granville\n",
    "- Marcelo Feitoza\n",
    "- Pedro Munhoz"
   ]
  },
  {
   "cell_type": "markdown",
   "metadata": {},
   "source": [
    "---"
   ]
  },
  {
   "cell_type": "markdown",
   "metadata": {},
   "source": [
    "### Libraries installation"
   ]
  },
  {
   "cell_type": "code",
   "execution_count": 2,
   "metadata": {},
   "outputs": [],
   "source": [
    "! pip install cdflib spacepy --quiet"
   ]
  },
  {
   "cell_type": "markdown",
   "metadata": {},
   "source": [
    "---"
   ]
  },
  {
   "cell_type": "markdown",
   "metadata": {},
   "source": [
    "## Importing libraries and data (.windMission)"
   ]
  },
  {
   "cell_type": "code",
   "execution_count": 3,
   "metadata": {},
   "outputs": [],
   "source": [
    "import pandas as pd\n",
    "import numpy as np\n",
    "from spacepy import pycdf\n",
    "\n",
    "windMission = pycdf.CDF(\"wi_h2_mfi_20220916_v03.cdf\") # The Wind Mission’s Ion Parameters\n",
    "dscovr = pycdf.CDF(\"dscovr_h0_mag_20220917_v01.cdf\") # The DSCOVR Magnetic Field Data Sets, BD(t)\n"
   ]
  },
  {
   "cell_type": "code",
   "execution_count": 4,
   "metadata": {},
   "outputs": [
    {
     "data": {
      "text/plain": [
       "['Epoch', 'Time_PB5', 'BF1', 'BGSM', 'BGSE', 'RANGE', 'SPC_MODE', 'MAG_MODE']"
      ]
     },
     "execution_count": 4,
     "metadata": {},
     "output_type": "execute_result"
    }
   ],
   "source": [
    "# get the keys where the number of rows is equal to 925882\n",
    "windMissionKeys = [key for key in windMission.keys() if windMission[key].shape[0] == 925882]\n",
    "windMissionKeys"
   ]
  },
  {
   "cell_type": "code",
   "execution_count": 5,
   "metadata": {},
   "outputs": [
    {
     "data": {
      "text/plain": [
       "KeysView(<CDF:\n",
       "B1F1: CDF_REAL4 [86400]\n",
       "B1GSE: CDF_REAL4 [86400, 3]\n",
       "B1RTN: CDF_REAL4 [86400, 3]\n",
       "B1SDF1: CDF_REAL4 [86400]\n",
       "B1SDGSE: CDF_REAL4 [86400, 3]\n",
       "B1SDRTN: CDF_REAL4 [86400, 3]\n",
       "Epoch1: CDF_EPOCH [86400]\n",
       "FLAG1: CDF_INT2 [86400]\n",
       "NUM1_PTS: CDF_INT4 [86400]\n",
       "RANGE1: CDF_INT2 [86400]\n",
       "SENS: CDF_REAL4 [3, 8] NRV\n",
       "Time1_PB5: CDF_INT4 [86400, 3]\n",
       "ZERO: CDF_REAL4 [3, 8] NRV\n",
       "format_time: CDF_CHAR*2 [3] NRV\n",
       "label_bgse: CDF_CHAR*8 [3] NRV\n",
       "label_brtn: CDF_CHAR*8 [3] NRV\n",
       "label_bsdgse: CDF_CHAR*14 [3] NRV\n",
       "label_bsdrtn: CDF_CHAR*14 [3] NRV\n",
       "label_time: CDF_CHAR*27 [3] NRV\n",
       "unit_time: CDF_CHAR*4 [3] NRV\n",
       ">)"
      ]
     },
     "execution_count": 5,
     "metadata": {},
     "output_type": "execute_result"
    }
   ],
   "source": [
    "dscovr.keys()"
   ]
  },
  {
   "cell_type": "markdown",
   "metadata": {},
   "source": [
    "## Exibindo a descrição dos dados"
   ]
  },
  {
   "cell_type": "code",
   "execution_count": 6,
   "metadata": {},
   "outputs": [
    {
     "data": {
      "text/plain": [
       "<zAttrList:\n",
       "CATDESC: Inner Sensor Amplitude Correction (1 min) [CDF_CHAR]\n",
       "DEPEND_0: Epoch1 [CDF_CHAR]\n",
       "FIELDNAM: Inner Sensor Amplitude Correction (1 min) [CDF_CHAR]\n",
       "FILLVAL: -1e+31 [CDF_FLOAT]\n",
       "MONOTON: FALSE [CDF_CHAR]\n",
       "SCALETYP: LINEAR [CDF_CHAR]\n",
       "TIME_RES: 1 min [CDF_CHAR]\n",
       "VAR_TYPE: metadata [CDF_CHAR]\n",
       ">"
      ]
     },
     "execution_count": 6,
     "metadata": {},
     "output_type": "execute_result"
    }
   ],
   "source": [
    "windMission['AMPL1_I'].attrs"
   ]
  },
  {
   "cell_type": "code",
   "execution_count": 7,
   "metadata": {},
   "outputs": [
    {
     "data": {
      "text/plain": [
       "<zAttrList:\n",
       "CATDESC: Inner Sensor Amplitude Correction (1 min) [CDF_CHAR]\n",
       "DEPEND_0: Epoch1 [CDF_CHAR]\n",
       "FIELDNAM: Inner Sensor Amplitude Correction (1 min) [CDF_CHAR]\n",
       "FILLVAL: -1e+31 [CDF_FLOAT]\n",
       "MONOTON: FALSE [CDF_CHAR]\n",
       "SCALETYP: LINEAR [CDF_CHAR]\n",
       "TIME_RES: 1 min [CDF_CHAR]\n",
       "VAR_TYPE: metadata [CDF_CHAR]\n",
       ">"
      ]
     },
     "execution_count": 7,
     "metadata": {},
     "output_type": "execute_result"
    }
   ],
   "source": [
    "windMission['AMPL1_I'].attrs"
   ]
  },
  {
   "cell_type": "code",
   "execution_count": 8,
   "metadata": {},
   "outputs": [
    {
     "data": {
      "text/plain": [
       "<zAttrList:\n",
       "CATDESC: Magnetometer Range [CDF_CHAR]\n",
       "DEPEND_0: Epoch [CDF_CHAR]\n",
       "FIELDNAM: Magnetometer Range [CDF_CHAR]\n",
       "FILLVAL: -1 [CDF_INT4]\n",
       "FORMAT: I1 [CDF_CHAR]\n",
       "LABLAXIS: Range [CDF_CHAR]\n",
       "MONOTON: FALSE [CDF_CHAR]\n",
       "SCALEMAX: 1 [CDF_INT4]\n",
       "SCALEMIN: 0 [CDF_INT4]\n",
       "SCALETYP: LINEAR [CDF_CHAR]\n",
       "TIME_RES: Variable [CDF_CHAR]\n",
       "UNITS:   [CDF_CHAR]\n",
       "VALIDMAX: 7 [CDF_INT4]\n",
       "VALIDMIN: 0 [CDF_INT4]\n",
       "VAR_TYPE: support_data [CDF_CHAR]\n",
       ">"
      ]
     },
     "execution_count": 8,
     "metadata": {},
     "output_type": "execute_result"
    }
   ],
   "source": [
    "windMission['RANGE'].attrs"
   ]
  },
  {
   "cell_type": "code",
   "execution_count": 9,
   "metadata": {},
   "outputs": [
    {
     "data": {
      "text/plain": [
       "<zAttrList:\n",
       "CATDESC: Inner Sensor Zero Flag (1 min) [CDF_CHAR]\n",
       "DEPEND_0: Epoch1 [CDF_CHAR]\n",
       "FIELDNAM: Inner Sensor Zero Flag (1 min) [CDF_CHAR]\n",
       "FILLVAL: -1 [CDF_INT4]\n",
       "MONOTON: FALSE [CDF_CHAR]\n",
       "SCALETYP: LINEAR [CDF_CHAR]\n",
       "TIME_RES: 1 min [CDF_CHAR]\n",
       "VAR_TYPE: metadata [CDF_CHAR]\n",
       ">"
      ]
     },
     "execution_count": 9,
     "metadata": {},
     "output_type": "execute_result"
    }
   ],
   "source": [
    "windMission['FLAG1_I'].attrs"
   ]
  },
  {
   "cell_type": "code",
   "execution_count": 10,
   "metadata": {},
   "outputs": [
    {
     "data": {
      "text/plain": [
       "<zAttrList:\n",
       "CATDESC: WIND/MFI operational mode [CDF_CHAR]\n",
       "DEPEND_0: Epoch [CDF_CHAR]\n",
       "FIELDNAM: WIND/MFI operational mode [CDF_CHAR]\n",
       "FILLVAL: -1 [CDF_INT4]\n",
       "FORMAT: I2 [CDF_CHAR]\n",
       "LABLAXIS: MFI MODE [CDF_CHAR]\n",
       "MONOTON: FALSE [CDF_CHAR]\n",
       "SCALEMAX: 11 [CDF_INT4]\n",
       "SCALEMIN: 11 [CDF_INT4]\n",
       "SCALETYP: LINEAR [CDF_CHAR]\n",
       "TIME_RES: Variable [CDF_CHAR]\n",
       "UNITS:   [CDF_CHAR]\n",
       "VALIDMAX: 15 [CDF_INT4]\n",
       "VALIDMIN: 0 [CDF_INT4]\n",
       "VAR_TYPE: support_data [CDF_CHAR]\n",
       ">"
      ]
     },
     "execution_count": 10,
     "metadata": {},
     "output_type": "execute_result"
    }
   ],
   "source": [
    "windMission['MAG_MODE'].attrs"
   ]
  },
  {
   "cell_type": "markdown",
   "metadata": {},
   "source": [
    "windMission['Ma']"
   ]
  },
  {
   "cell_type": "code",
   "execution_count": 11,
   "metadata": {},
   "outputs": [
    {
     "data": {
      "text/plain": [
       "<zAttrList:\n",
       "CATDESC: Time, Centered, Number of milliseconds since the epoch (1 min) [CDF_CHAR]\n",
       "FIELDNAM: Time Line (1 min) [CDF_CHAR]\n",
       "FILLVAL: -1e+31 [CDF_DOUBLE]\n",
       "FORMAT: E14.8 [CDF_CHAR]\n",
       "LABLAXIS: Epoch [CDF_CHAR]\n",
       "MONOTON: INCREASE [CDF_CHAR]\n",
       "SCALEMAX: 63830592000000.0 [CDF_DOUBLE]\n",
       "SCALEMIN: 63830505600000.0 [CDF_DOUBLE]\n",
       "SCALETYP: LINEAR [CDF_CHAR]\n",
       "TIME_RES: 1 min [CDF_CHAR]\n",
       "UNITS: ms [CDF_CHAR]\n",
       "VALIDMAX: 64092124800000.0 [CDF_DOUBLE]\n",
       "VALIDMIN: 62951817600000.0 [CDF_DOUBLE]\n",
       "VAR_TYPE: support_data [CDF_CHAR]\n",
       ">"
      ]
     },
     "execution_count": 11,
     "metadata": {},
     "output_type": "execute_result"
    }
   ],
   "source": [
    "windMission['Epoch1'].attrs"
   ]
  },
  {
   "cell_type": "markdown",
   "metadata": {},
   "source": [
    "## Conversion to a common DataFrame"
   ]
  },
  {
   "cell_type": "code",
   "execution_count": 12,
   "metadata": {},
   "outputs": [],
   "source": [
    "epoch = pd.DataFrame(windMission['Epoch']).rename(columns={0: 'Epoch'})\n",
    "bgse = pd.DataFrame(windMission['BGSE']).rename(columns={0: 'Bx', 1: 'By', 2: 'Bz'})\n",
    "bf1 = pd.DataFrame(windMission['BF1']).rename(columns={0: 'Magnetic field magnitude'})\n",
    "stormRange = pd.DataFrame(windMission['RANGE']).rename(columns={0: 'Storm range'})\n",
    "spc_mode = pd.DataFrame(windMission['SPC_MODE']).rename(columns={0: 'S/C operational mode'})\n",
    "mag_mode = pd.DataFrame(windMission['MAG_MODE']).rename(columns={0: 'WIND/MFI operational mode'})\n",
    "\n",
    "dataframe2 = [epoch, bgse, bf1, stormRange, spc_mode, mag_mode] \n",
    "df2 = pd.concat(dataframe2, axis=1)\n",
    "df2.head()"
   ]
  },
  {
   "cell_type": "code",
   "execution_count": null,
   "metadata": {},
   "outputs": [
    {
     "data": {
      "text/plain": [
       "0    1663286400\n",
       "1    1663286400\n",
       "2    1663286400\n",
       "3    1663286400\n",
       "4    1663286400\n",
       "Name: Epoch, dtype: int64"
      ]
     },
     "execution_count": 325,
     "metadata": {},
     "output_type": "execute_result"
    }
   ],
   "source": [
    "# Turn the Epoch column into unix time\n",
    "df2['Epoch'] = pd.to_datetime(df2['Epoch']).astype('int64') // 10**9\n",
    "df2['Epoch'].head()"
   ]
  },
  {
   "cell_type": "markdown",
   "metadata": {},
   "source": [
    "# Regressão linear - Target: Magnetic field magnitude"
   ]
  },
  {
   "cell_type": "code",
   "execution_count": null,
   "metadata": {},
   "outputs": [],
   "source": [
    "from sklearn.model_selection import train_test_split\n",
    "x_entrada = df2[['Bx','By','Bz', 'Storm range', 'Epoch',\n",
    "                'S/C operational mode', 'WIND/MFI operational mode']].values\n",
    "\n",
    "y_saida = df2['Magnetic field magnitude'].values\n",
    "# 'Epoch'\n",
    "X_train, X_test, Y_train, Y_test = train_test_split(x_entrada, y_saida, \n",
    "                                                    test_size = 0.3, \n",
    "                                                    random_state = 42)"
   ]
  },
  {
   "cell_type": "code",
   "execution_count": null,
   "metadata": {},
   "outputs": [
    {
     "data": {
      "text/plain": [
       "array([6.10124825, 4.53865127, 6.67687571, ..., 4.75057543, 8.07562867,\n",
       "       8.06289451])"
      ]
     },
     "execution_count": 327,
     "metadata": {},
     "output_type": "execute_result"
    }
   ],
   "source": [
    "from sklearn.linear_model import LinearRegression\n",
    "\n",
    "model = LinearRegression().fit(X_train, Y_train)\n",
    "Y_pred = model.predict(X_test)\n",
    "Y_pred"
   ]
  },
  {
   "cell_type": "code",
   "execution_count": null,
   "metadata": {},
   "outputs": [
    {
     "name": "stdout",
     "output_type": "stream",
     "text": [
      "Acuracidade (treino):  0.8405036748829848\n",
      "Acuracidade (teste):  0.8399662592589445\n",
      "R2 score:  0.8399662592589445\n",
      "Mean squared error:  0.7528603294930323\n",
      "Mean absolute error:  0.6603896811709434\n"
     ]
    }
   ],
   "source": [
    "from sklearn.metrics import r2_score, mean_squared_error, mean_absolute_error\n",
    "\n",
    "print('Acuracidade (treino): ', model.score(X_train, Y_train))\n",
    "print('Acuracidade (teste): ', model.score(X_test, Y_test))\n",
    "print('R2 score: ', r2_score(Y_test, Y_pred))\n",
    "print('Mean squared error: ', mean_squared_error(Y_test, Y_pred))\n",
    "print('Mean absolute error: ', mean_absolute_error(Y_test, Y_pred))"
   ]
  },
  {
   "cell_type": "code",
   "execution_count": null,
   "metadata": {},
   "outputs": [
    {
     "name": "stdout",
     "output_type": "stream",
     "text": [
      "[6.10124825 4.53865127 6.67687571 ... 4.75057543 8.07562867 8.06289451]\n"
     ]
    }
   ],
   "source": [
    "print(Y_pred)"
   ]
  },
  {
   "cell_type": "code",
   "execution_count": null,
   "metadata": {},
   "outputs": [
    {
     "data": {
      "text/plain": [
       "array([4.86141295, 6.54016459, 9.64136956, ..., 8.82840611, 5.57693029,\n",
       "       9.2463506 ])"
      ]
     },
     "execution_count": 330,
     "metadata": {},
     "output_type": "execute_result"
    }
   ],
   "source": [
    "Y_pred2 = model.predict(X_train)\n",
    "Y_pred2"
   ]
  },
  {
   "cell_type": "code",
   "execution_count": null,
   "metadata": {},
   "outputs": [
    {
     "name": "stdout",
     "output_type": "stream",
     "text": [
      "925882\n"
     ]
    }
   ],
   "source": [
    "Y_pred_total = np.concatenate((Y_pred2, Y_pred), axis=0)\n",
    "print(len(Y_pred_total))"
   ]
  },
  {
   "cell_type": "code",
   "execution_count": null,
   "metadata": {},
   "outputs": [
    {
     "ename": "NameError",
     "evalue": "name 'Y_pred_total' is not defined",
     "output_type": "error",
     "traceback": [
      "\u001b[1;31m---------------------------------------------------------------------------\u001b[0m",
      "\u001b[1;31mNameError\u001b[0m                                 Traceback (most recent call last)",
      "\u001b[1;32mc:\\Users\\marce\\dev\\hackathon\\sunWindPredictor.ipynb Cell 29\u001b[0m in \u001b[0;36m<cell line: 1>\u001b[1;34m()\u001b[0m\n\u001b[1;32m----> <a href='vscode-notebook-cell:/c%3A/Users/marce/dev/hackathon/sunWindPredictor.ipynb#X40sZmlsZQ%3D%3D?line=0'>1</a>\u001b[0m df2[\u001b[39m'\u001b[39m\u001b[39mPrediction\u001b[39m\u001b[39m'\u001b[39m] \u001b[39m=\u001b[39m Y_pred_total\n\u001b[0;32m      <a href='vscode-notebook-cell:/c%3A/Users/marce/dev/hackathon/sunWindPredictor.ipynb#X40sZmlsZQ%3D%3D?line=1'>2</a>\u001b[0m df2\u001b[39m.\u001b[39mcolumns\n",
      "\u001b[1;31mNameError\u001b[0m: name 'Y_pred_total' is not defined"
     ]
    }
   ],
   "source": [
    "df2['Prediction'] = Y_pred_total\n",
    "df2.columns"
   ]
  },
  {
   "cell_type": "markdown",
   "metadata": {},
   "source": [
    "## Saving model"
   ]
  },
  {
   "cell_type": "code",
   "execution_count": null,
   "metadata": {},
   "outputs": [],
   "source": [
    "import pickle\n",
    "import joblib as jbl  \n",
    "\n",
    "saved_model = pickle.dumps(model)\n",
    "jbl.dump(model, 'model.pkl')\n",
    "  \n",
    "# Load the pickled model\n",
    "modelPickle = pickle.loads(saved_model)\n",
    "  \n",
    "# Use the loaded pickled model to make predictions\n",
    "modelPickle.predict(X_test)\n",
    "\n",
    "df2.to_csv('dataframe2.csv', index=False)"
   ]
  }
 ],
 "metadata": {
  "kernelspec": {
   "display_name": "Python 3.9.12 ('base')",
   "language": "python",
   "name": "python3"
  },
  "language_info": {
   "codemirror_mode": {
    "name": "ipython",
    "version": 3
   },
   "file_extension": ".py",
   "mimetype": "text/x-python",
   "name": "python",
   "nbconvert_exporter": "python",
   "pygments_lexer": "ipython3",
   "version": "3.9.12"
  },
  "orig_nbformat": 4,
  "vscode": {
   "interpreter": {
    "hash": "bce320103a4f9599bf42cb45744b1f3acee8930c6f7dcdff248089a2e65863cd"
   }
  }
 },
 "nbformat": 4,
 "nbformat_minor": 2
}
