{
 "cells": [
  {
   "cell_type": "markdown",
   "metadata": {},
   "source": [
    "## Participants\n",
    "- Felipe Saadi\n",
    "- Gabriel Caetano\n",
    "- Luiz Granville\n",
    "- Marcelo Feitoza\n",
    "- Pedro Munhoz"
   ]
  },
  {
   "cell_type": "markdown",
   "metadata": {},
   "source": [
    "---"
   ]
  },
  {
   "cell_type": "markdown",
   "metadata": {},
   "source": [
    "### Libraries installation"
   ]
  },
  {
   "cell_type": "code",
   "execution_count": 2,
   "metadata": {},
   "outputs": [
    {
     "name": "stdout",
     "output_type": "stream",
     "text": [
      "\u001b[33m  WARNING: The scripts pyrsa-decrypt, pyrsa-encrypt, pyrsa-keygen, pyrsa-priv2pub, pyrsa-sign and pyrsa-verify are installed in '/home/marcelo/.local/bin' which is not on PATH.\n",
      "  Consider adding this directory to PATH or, if you prefer to suppress this warning, use --no-warn-script-location.\u001b[0m\n",
      "\u001b[33m  WARNING: The script wheel is installed in '/home/marcelo/.local/bin' which is not on PATH.\n",
      "  Consider adding this directory to PATH or, if you prefer to suppress this warning, use --no-warn-script-location.\u001b[0m\n",
      "\u001b[33m  WARNING: The script markdown_py is installed in '/home/marcelo/.local/bin' which is not on PATH.\n",
      "  Consider adding this directory to PATH or, if you prefer to suppress this warning, use --no-warn-script-location.\u001b[0m\n",
      "\u001b[33m  WARNING: The script google-oauthlib-tool is installed in '/home/marcelo/.local/bin' which is not on PATH.\n",
      "  Consider adding this directory to PATH or, if you prefer to suppress this warning, use --no-warn-script-location.\u001b[0m\n",
      "\u001b[33m  WARNING: The script tensorboard is installed in '/home/marcelo/.local/bin' which is not on PATH.\n",
      "  Consider adding this directory to PATH or, if you prefer to suppress this warning, use --no-warn-script-location.\u001b[0m\n",
      "\u001b[33m  WARNING: The script tabulate is installed in '/home/marcelo/.local/bin' which is not on PATH.\n",
      "  Consider adding this directory to PATH or, if you prefer to suppress this warning, use --no-warn-script-location.\u001b[0m\n",
      "\u001b[33m  WARNING: The scripts estimator_ckpt_converter, import_pb_to_tensorboard, saved_model_cli, tensorboard, tf_upgrade_v2, tflite_convert, toco and toco_from_protos are installed in '/home/marcelo/.local/bin' which is not on PATH.\n",
      "  Consider adding this directory to PATH or, if you prefer to suppress this warning, use --no-warn-script-location.\u001b[0m\n",
      "\u001b[33m  WARNING: The scripts cygdb, cython and cythonize are installed in '/home/marcelo/.local/bin' which is not on PATH.\n",
      "  Consider adding this directory to PATH or, if you prefer to suppress this warning, use --no-warn-script-location.\u001b[0m\n"
     ]
    }
   ],
   "source": [
    "! pip install cdflib spacepy scalecast pmdarima seaborn numpy --quiet"
   ]
  },
  {
   "cell_type": "markdown",
   "metadata": {},
   "source": [
    "## Importing libraries and data (.windMission)"
   ]
  },
  {
   "cell_type": "code",
   "execution_count": 3,
   "metadata": {},
   "outputs": [
    {
     "ename": "Exception",
     "evalue": "Cannot load CDF C library; checked . Try 'os.environ[\"CDF_LIB\"] = library_directory' before import.",
     "output_type": "error",
     "traceback": [
      "\u001b[0;31m---------------------------------------------------------------------------\u001b[0m",
      "\u001b[0;31mException\u001b[0m                                 Traceback (most recent call last)",
      "\u001b[1;32m/mnt/c/Users/marce/dev/hackathon/sunWindPredictor.ipynb Cell 6\u001b[0m in \u001b[0;36m<cell line: 3>\u001b[0;34m()\u001b[0m\n\u001b[1;32m      <a href='vscode-notebook-cell://wsl%2Barch/mnt/c/Users/marce/dev/hackathon/sunWindPredictor.ipynb#W5sdnNjb2RlLXJlbW90ZQ%3D%3D?line=0'>1</a>\u001b[0m \u001b[39mimport\u001b[39;00m \u001b[39mpandas\u001b[39;00m \u001b[39mas\u001b[39;00m \u001b[39mpd\u001b[39;00m\n\u001b[1;32m      <a href='vscode-notebook-cell://wsl%2Barch/mnt/c/Users/marce/dev/hackathon/sunWindPredictor.ipynb#W5sdnNjb2RlLXJlbW90ZQ%3D%3D?line=1'>2</a>\u001b[0m \u001b[39mimport\u001b[39;00m \u001b[39mnumpy\u001b[39;00m \u001b[39mas\u001b[39;00m \u001b[39mnp\u001b[39;00m\n\u001b[0;32m----> <a href='vscode-notebook-cell://wsl%2Barch/mnt/c/Users/marce/dev/hackathon/sunWindPredictor.ipynb#W5sdnNjb2RlLXJlbW90ZQ%3D%3D?line=2'>3</a>\u001b[0m \u001b[39mfrom\u001b[39;00m \u001b[39mspacepy\u001b[39;00m \u001b[39mimport\u001b[39;00m pycdf\n",
      "File \u001b[0;32m~/.local/lib/python3.10/site-packages/spacepy/pycdf/__init__.py:1301\u001b[0m, in \u001b[0;36m<module>\u001b[0;34m\u001b[0m\n\u001b[1;32m   1299\u001b[0m _libpath, _library \u001b[39m=\u001b[39m Library\u001b[39m.\u001b[39m_find_lib()\n\u001b[1;32m   1300\u001b[0m \u001b[39mif\u001b[39;00m _library \u001b[39mis\u001b[39;00m \u001b[39mNone\u001b[39;00m:\n\u001b[0;32m-> 1301\u001b[0m     \u001b[39mraise\u001b[39;00m \u001b[39mException\u001b[39;00m((\u001b[39m'\u001b[39m\u001b[39mCannot load CDF C library; checked \u001b[39m\u001b[39m{0}\u001b[39;00m\u001b[39m. \u001b[39m\u001b[39m'\u001b[39m\n\u001b[1;32m   1302\u001b[0m                      \u001b[39m'\u001b[39m\u001b[39mTry \u001b[39m\u001b[39m\\'\u001b[39;00m\u001b[39mos.environ[\u001b[39m\u001b[39m\"\u001b[39m\u001b[39mCDF_LIB\u001b[39m\u001b[39m\"\u001b[39m\u001b[39m] = library_directory\u001b[39m\u001b[39m\\'\u001b[39;00m\u001b[39m \u001b[39m\u001b[39m'\u001b[39m\n\u001b[1;32m   1303\u001b[0m                      \u001b[39m'\u001b[39m\u001b[39mbefore import.\u001b[39m\u001b[39m'\u001b[39m)\u001b[39m.\u001b[39mformat(\u001b[39m'\u001b[39m\u001b[39m, \u001b[39m\u001b[39m'\u001b[39m\u001b[39m.\u001b[39mjoin(_libpath)))\n\u001b[1;32m   1304\u001b[0m \u001b[39mfrom\u001b[39;00m \u001b[39m.\u001b[39;00m \u001b[39mimport\u001b[39;00m const\n\u001b[1;32m   1305\u001b[0m lib \u001b[39m=\u001b[39m Library(_libpath, _library)\n",
      "\u001b[0;31mException\u001b[0m: Cannot load CDF C library; checked . Try 'os.environ[\"CDF_LIB\"] = library_directory' before import."
     ]
    }
   ],
   "source": [
    "import pandas as pd\n",
    "import numpy as np\n",
    "from spacepy import pycdf\n",
    "\n",
    "from getDatasets import downloadLatestDataset\n",
    "\n",
    "# if the dataset does not exist, download it\n",
    "if not os.path.exists('./data/latestDataset.cdf'):\n",
    "  downloadLatestDataset()\n",
    "\n",
    "windMission = pycdf.CDF(\"./data/latestDataset.cdf\") # The Wind Mission’s Ion Parameters'"
   ]
  },
  {
   "cell_type": "code",
   "execution_count": null,
   "metadata": {},
   "outputs": [],
   "source": [
    "data = pycdf.concatCDF([\n",
    "  # spacepy.pycdf.CDF(f) for f in glob.glob('*.cdf')\n",
    "  pycdf.CDF(\"./datasets/wi_h2_mfi_20220101_v04.cdf\"),\n",
    "  pycdf.CDF(\"./datasets/wi_h2_mfi_20220102_v04.cdf\"),\n",
    "  pycdf.CDF(\"./datasets/wi_h2_mfi_20220104_v04.cdf\"),\n",
    "  pycdf.CDF(\"./datasets/wi_h2_mfi_20220105_v04.cdf\"),\n",
    "  pycdf.CDF(\"./datasets/wi_h2_mfi_20220106_v04.cdf\"),\n",
    "  pycdf.CDF(\"./datasets/wi_h2_mfi_20220108_v04.cdf\")\n",
    "])"
   ]
  },
  {
   "cell_type": "code",
   "execution_count": null,
   "metadata": {},
   "outputs": [
    {
     "data": {
      "text/plain": [
       "<function SpaceData.keys>"
      ]
     },
     "execution_count": 4,
     "metadata": {},
     "output_type": "execute_result"
    }
   ],
   "source": [
    "data.keys"
   ]
  },
  {
   "cell_type": "code",
   "execution_count": null,
   "metadata": {},
   "outputs": [
    {
     "data": {
      "text/plain": [
       "dmarray([datetime.datetime(2022, 1, 8, 23, 59, 59, 964000)], dtype=object)"
      ]
     },
     "execution_count": 6,
     "metadata": {},
     "output_type": "execute_result"
    }
   ],
   "source": [
    "data['Epoch'][-1]"
   ]
  },
  {
   "cell_type": "code",
   "execution_count": null,
   "metadata": {},
   "outputs": [
    {
     "data": {
      "text/plain": [
       "dict_keys(['Epoch', 'Time_PB5', 'BF1', 'BGSM', 'BGSE', 'RANGE', 'SPC_MODE', 'MAG_MODE', 'Epoch1', 'Time1_PB5', 'NUM1_PTS_O', 'ZERO1_O', 'SENS1_O', 'AMPL1_O', 'ORTH1_O', 'PAYLD1_O', 'FLAG1_O', 'NUM1_PTS_I', 'ZERO1_I', 'SENS1_I', 'AMPL1_I', 'ORTH1_I', 'PAYLD1_I', 'FLAG1_I', 'label_time', 'format_time', 'unit_time', 'label_bgsm', 'label_bgse', 'cartesian'])"
      ]
     },
     "execution_count": 69,
     "metadata": {},
     "output_type": "execute_result"
    }
   ],
   "source": [
    "data.keys()"
   ]
  },
  {
   "cell_type": "markdown",
   "metadata": {},
   "source": [
    "## Data description"
   ]
  },
  {
   "cell_type": "code",
   "execution_count": null,
   "metadata": {},
   "outputs": [],
   "source": [
    "data['Epoch'].shape()"
   ]
  },
  {
   "cell_type": "code",
   "execution_count": null,
   "metadata": {},
   "outputs": [],
   "source": [
    "years, months, days, hours, minutes, seconds = [], [], [], [], [], []\n",
    "\n",
    "for i in range((len(data['Epoch'])-15), len(data['Epoch'])):\n",
    "  # separate the date and time into columns\n",
    "  date = str(data['Epoch'][i][0]).split(\" \")\n",
    "\n",
    "  # separate the date into year, month, day\n",
    "  year = date[0].split(\"-\")[0]\n",
    "  month = date[0].split(\"-\")[1]\n",
    "  day = date[0].split(\"-\")[2]\n",
    "\n",
    "  # separate the time into hour, minute, second\n",
    "  hour = date[1].split(\":\")[0]\n",
    "  minute = date[1].split(\":\")[1]\n",
    "  second = date[1].split(\":\")[2]\n",
    "\n",
    "  # append the values to the lists\n",
    "  years.append(year)\n",
    "  months.append(month)\n",
    "  days.append(day)\n",
    "  hours.append(hour)\n",
    "  minutes.append(minute)\n",
    "  seconds.append(second)\n"
   ]
  },
  {
   "cell_type": "code",
   "execution_count": null,
   "metadata": {},
   "outputs": [],
   "source": [
    "# Create a column for each of the values\n",
    "data['Year'] = years\n",
    "data['Month'] = months\n",
    "data['Day'] = days\n",
    "data['Hour'] = hours\n",
    "data['Minute'] = minutes\n",
    "data['Second'] = seconds"
   ]
  },
  {
   "cell_type": "code",
   "execution_count": null,
   "metadata": {},
   "outputs": [],
   "source": [
    "data['Date'] = date"
   ]
  },
  {
   "cell_type": "code",
   "execution_count": null,
   "metadata": {},
   "outputs": [
    {
     "data": {
      "text/plain": [
       "[1641006003298.0,\n",
       " 1641006003390.0,\n",
       " 1641006003482.0,\n",
       " 1641006003574.0,\n",
       " 1641006003666.0,\n",
       " 1641006003758.0,\n",
       " 1641006003850.0,\n",
       " 1641006003942.0,\n",
       " 1641006004034.0,\n",
       " 1641006004126.0,\n",
       " 1641006004218.0,\n",
       " 1641006004310.0,\n",
       " 1641006004402.0,\n",
       " 1641006004494.0,\n",
       " 1641006004586.0]"
      ]
     },
     "execution_count": 132,
     "metadata": {},
     "output_type": "execute_result"
    }
   ],
   "source": [
    "data['Date'][35:50]"
   ]
  },
  {
   "cell_type": "code",
   "execution_count": null,
   "metadata": {},
   "outputs": [
    {
     "data": {
      "text/plain": [
       "{'FIELDNAM': 'Inner Sensor Amplitude Correction (1 min)',\n",
       " 'MONOTON': 'FALSE',\n",
       " 'SCALETYP': 'LINEAR',\n",
       " 'CATDESC': 'Inner Sensor Amplitude Correction (1 min)',\n",
       " 'FILLVAL': -1e+31,\n",
       " 'DEPEND_0': 'Epoch1',\n",
       " 'VAR_TYPE': 'metadata',\n",
       " 'TIME_RES': '1 min'}"
      ]
     },
     "execution_count": 36,
     "metadata": {},
     "output_type": "execute_result"
    }
   ],
   "source": [
    "data['AMPL1_I'].attrs"
   ]
  },
  {
   "cell_type": "code",
   "execution_count": null,
   "metadata": {},
   "outputs": [],
   "source": [
    "data['AMPL1_I'].attrs"
   ]
  },
  {
   "cell_type": "code",
   "execution_count": null,
   "metadata": {},
   "outputs": [],
   "source": [
    "data['RANGE'].attrs"
   ]
  },
  {
   "cell_type": "code",
   "execution_count": null,
   "metadata": {},
   "outputs": [],
   "source": [
    "data['FLAG1_I'].attrs"
   ]
  },
  {
   "cell_type": "code",
   "execution_count": null,
   "metadata": {},
   "outputs": [],
   "source": [
    "data['MAG_MODE'].attrs"
   ]
  },
  {
   "cell_type": "markdown",
   "metadata": {},
   "source": [
    "windMission['Ma']"
   ]
  },
  {
   "cell_type": "code",
   "execution_count": null,
   "metadata": {},
   "outputs": [],
   "source": [
    "data['Epoch1'].attrs"
   ]
  },
  {
   "cell_type": "code",
   "execution_count": null,
   "metadata": {},
   "outputs": [],
   "source": [
    "print(data['Epoch'])"
   ]
  },
  {
   "cell_type": "code",
   "execution_count": null,
   "metadata": {},
   "outputs": [],
   "source": [
    "type(data)"
   ]
  },
  {
   "cell_type": "code",
   "execution_count": null,
   "metadata": {},
   "outputs": [],
   "source": [
    "# !pip install dtw-python"
   ]
  },
  {
   "cell_type": "code",
   "execution_count": null,
   "metadata": {},
   "outputs": [
    {
     "data": {
      "text/plain": [
       "dmarray([[datetime.datetime(2022, 1, 1, 0, 0, 0, 78000)],\n",
       "         [datetime.datetime(2022, 1, 1, 0, 0, 0, 170000)],\n",
       "         [datetime.datetime(2022, 1, 1, 0, 0, 0, 262000)],\n",
       "         ...,\n",
       "         [datetime.datetime(2022, 1, 2, 23, 59, 59, 797000)],\n",
       "         [datetime.datetime(2022, 1, 2, 23, 59, 59, 889000)],\n",
       "         [datetime.datetime(2022, 1, 2, 23, 59, 59, 981000)]],\n",
       "        dtype=object)"
      ]
     },
     "execution_count": 52,
     "metadata": {},
     "output_type": "execute_result"
    }
   ],
   "source": [
    "data['Epoch']"
   ]
  },
  {
   "cell_type": "markdown",
   "metadata": {},
   "source": [
    "## Conversion to a common DataFrame"
   ]
  },
  {
   "cell_type": "code",
   "execution_count": null,
   "metadata": {},
   "outputs": [],
   "source": [
    "epoch = pd.DataFrame(data['Epoch']).rename(columns={0: 'Epoch'})\n",
    "bgse = pd.DataFrame(data['BGSE']).rename(columns={0: 'Bx', 1: 'By', 2: 'Bz'})\n",
    "bf1 = pd.DataFrame(data['BF1']).rename(columns={0: 'Magnetic field magnitude'})\n",
    "stormRange = pd.DataFrame(data['RANGE']).rename(columns={0: 'Storm range'})\n",
    "spc_mode = pd.DataFrame(data['SPC_MODE']).rename(columns={0: 'S/C operational mode'})\n",
    "mag_mode = pd.DataFrame(data['MAG_MODE']).rename(columns={0: 'WIND/MFI operational mode'})"
   ]
  },
  {
   "cell_type": "code",
   "execution_count": null,
   "metadata": {},
   "outputs": [
    {
     "data": {
      "text/html": [
       "<div>\n",
       "<style scoped>\n",
       "    .dataframe tbody tr th:only-of-type {\n",
       "        vertical-align: middle;\n",
       "    }\n",
       "\n",
       "    .dataframe tbody tr th {\n",
       "        vertical-align: top;\n",
       "    }\n",
       "\n",
       "    .dataframe thead th {\n",
       "        text-align: right;\n",
       "    }\n",
       "</style>\n",
       "<table border=\"1\" class=\"dataframe\">\n",
       "  <thead>\n",
       "    <tr style=\"text-align: right;\">\n",
       "      <th></th>\n",
       "      <th>Epoch</th>\n",
       "      <th>Bx</th>\n",
       "      <th>By</th>\n",
       "      <th>Bz</th>\n",
       "      <th>Magnetic field magnitude</th>\n",
       "      <th>Storm range</th>\n",
       "      <th>S/C operational mode</th>\n",
       "      <th>WIND/MFI operational mode</th>\n",
       "    </tr>\n",
       "  </thead>\n",
       "  <tbody>\n",
       "    <tr>\n",
       "      <th>0</th>\n",
       "      <td>2022-01-01 00:00:00.078</td>\n",
       "      <td>-5.987128</td>\n",
       "      <td>2.666523</td>\n",
       "      <td>-5.138955</td>\n",
       "      <td>8.328560</td>\n",
       "      <td>1</td>\n",
       "      <td>1</td>\n",
       "      <td>11</td>\n",
       "    </tr>\n",
       "    <tr>\n",
       "      <th>1</th>\n",
       "      <td>2022-01-01 00:00:00.170</td>\n",
       "      <td>-5.991735</td>\n",
       "      <td>2.682342</td>\n",
       "      <td>-5.102776</td>\n",
       "      <td>8.314696</td>\n",
       "      <td>1</td>\n",
       "      <td>1</td>\n",
       "      <td>11</td>\n",
       "    </tr>\n",
       "    <tr>\n",
       "      <th>2</th>\n",
       "      <td>2022-01-01 00:00:00.262</td>\n",
       "      <td>-6.024165</td>\n",
       "      <td>2.690811</td>\n",
       "      <td>-5.060466</td>\n",
       "      <td>8.315007</td>\n",
       "      <td>1</td>\n",
       "      <td>1</td>\n",
       "      <td>11</td>\n",
       "    </tr>\n",
       "    <tr>\n",
       "      <th>3</th>\n",
       "      <td>2022-01-01 00:00:00.354</td>\n",
       "      <td>-6.029044</td>\n",
       "      <td>2.691353</td>\n",
       "      <td>-5.057029</td>\n",
       "      <td>8.316628</td>\n",
       "      <td>1</td>\n",
       "      <td>1</td>\n",
       "      <td>11</td>\n",
       "    </tr>\n",
       "    <tr>\n",
       "      <th>4</th>\n",
       "      <td>2022-01-01 00:00:00.446</td>\n",
       "      <td>-6.059289</td>\n",
       "      <td>2.698425</td>\n",
       "      <td>-5.075548</td>\n",
       "      <td>8.352105</td>\n",
       "      <td>1</td>\n",
       "      <td>1</td>\n",
       "      <td>11</td>\n",
       "    </tr>\n",
       "    <tr>\n",
       "      <th>5</th>\n",
       "      <td>2022-01-01 00:00:00.538</td>\n",
       "      <td>-6.049378</td>\n",
       "      <td>2.700330</td>\n",
       "      <td>-5.079763</td>\n",
       "      <td>8.348100</td>\n",
       "      <td>1</td>\n",
       "      <td>1</td>\n",
       "      <td>11</td>\n",
       "    </tr>\n",
       "    <tr>\n",
       "      <th>6</th>\n",
       "      <td>2022-01-01 00:00:00.630</td>\n",
       "      <td>-6.095523</td>\n",
       "      <td>2.685486</td>\n",
       "      <td>-5.074874</td>\n",
       "      <td>8.373863</td>\n",
       "      <td>1</td>\n",
       "      <td>1</td>\n",
       "      <td>11</td>\n",
       "    </tr>\n",
       "    <tr>\n",
       "      <th>7</th>\n",
       "      <td>2022-01-01 00:00:00.722</td>\n",
       "      <td>-6.129284</td>\n",
       "      <td>2.644819</td>\n",
       "      <td>-5.112437</td>\n",
       "      <td>8.408341</td>\n",
       "      <td>1</td>\n",
       "      <td>1</td>\n",
       "      <td>11</td>\n",
       "    </tr>\n",
       "    <tr>\n",
       "      <th>8</th>\n",
       "      <td>2022-01-01 00:00:00.814</td>\n",
       "      <td>-6.154401</td>\n",
       "      <td>2.650718</td>\n",
       "      <td>-5.110364</td>\n",
       "      <td>8.427264</td>\n",
       "      <td>1</td>\n",
       "      <td>1</td>\n",
       "      <td>11</td>\n",
       "    </tr>\n",
       "    <tr>\n",
       "      <th>9</th>\n",
       "      <td>2022-01-01 00:00:00.906</td>\n",
       "      <td>-6.170061</td>\n",
       "      <td>2.632748</td>\n",
       "      <td>-5.112915</td>\n",
       "      <td>8.434626</td>\n",
       "      <td>1</td>\n",
       "      <td>1</td>\n",
       "      <td>11</td>\n",
       "    </tr>\n",
       "  </tbody>\n",
       "</table>\n",
       "</div>"
      ],
      "text/plain": [
       "                    Epoch        Bx        By        Bz  \\\n",
       "0 2022-01-01 00:00:00.078 -5.987128  2.666523 -5.138955   \n",
       "1 2022-01-01 00:00:00.170 -5.991735  2.682342 -5.102776   \n",
       "2 2022-01-01 00:00:00.262 -6.024165  2.690811 -5.060466   \n",
       "3 2022-01-01 00:00:00.354 -6.029044  2.691353 -5.057029   \n",
       "4 2022-01-01 00:00:00.446 -6.059289  2.698425 -5.075548   \n",
       "5 2022-01-01 00:00:00.538 -6.049378  2.700330 -5.079763   \n",
       "6 2022-01-01 00:00:00.630 -6.095523  2.685486 -5.074874   \n",
       "7 2022-01-01 00:00:00.722 -6.129284  2.644819 -5.112437   \n",
       "8 2022-01-01 00:00:00.814 -6.154401  2.650718 -5.110364   \n",
       "9 2022-01-01 00:00:00.906 -6.170061  2.632748 -5.112915   \n",
       "\n",
       "   Magnetic field magnitude  Storm range  S/C operational mode  \\\n",
       "0                  8.328560            1                     1   \n",
       "1                  8.314696            1                     1   \n",
       "2                  8.315007            1                     1   \n",
       "3                  8.316628            1                     1   \n",
       "4                  8.352105            1                     1   \n",
       "5                  8.348100            1                     1   \n",
       "6                  8.373863            1                     1   \n",
       "7                  8.408341            1                     1   \n",
       "8                  8.427264            1                     1   \n",
       "9                  8.434626            1                     1   \n",
       "\n",
       "   WIND/MFI operational mode  \n",
       "0                         11  \n",
       "1                         11  \n",
       "2                         11  \n",
       "3                         11  \n",
       "4                         11  \n",
       "5                         11  \n",
       "6                         11  \n",
       "7                         11  \n",
       "8                         11  \n",
       "9                         11  "
      ]
     },
     "execution_count": 50,
     "metadata": {},
     "output_type": "execute_result"
    }
   ],
   "source": [
    "dataframe = [epoch, bgse, bf1, stormRange, spc_mode, mag_mode]\n",
    "# dataframe = [bgse, bf1, stormRange, spc_mode, mag_mode, years, months, days, hours, minutes, seconds]\n",
    "df = pd.concat(dataframe, axis=1)\n",
    "df[15]\n",
    "df[14951]\n",
    "df[12418355]"
   ]
  },
  {
   "cell_type": "code",
   "execution_count": 53,
   "metadata": {},
   "outputs": [],
   "source": [
    "df['Epoch'].index.freq = 'D'"
   ]
  },
  {
   "cell_type": "code",
   "execution_count": 61,
   "metadata": {},
   "outputs": [],
   "source": [
    "df['Epoch'] = pd.DataFrame(df['Epoch'])"
   ]
  },
  {
   "cell_type": "code",
   "execution_count": 92,
   "metadata": {},
   "outputs": [
    {
     "data": {
      "text/html": [
       "<div>\n",
       "<style scoped>\n",
       "    .dataframe tbody tr th:only-of-type {\n",
       "        vertical-align: middle;\n",
       "    }\n",
       "\n",
       "    .dataframe tbody tr th {\n",
       "        vertical-align: top;\n",
       "    }\n",
       "\n",
       "    .dataframe thead th {\n",
       "        text-align: right;\n",
       "    }\n",
       "</style>\n",
       "<table border=\"1\" class=\"dataframe\">\n",
       "  <thead>\n",
       "    <tr style=\"text-align: right;\">\n",
       "      <th></th>\n",
       "      <th>Epoch</th>\n",
       "      <th>Bx</th>\n",
       "      <th>By</th>\n",
       "      <th>Bz</th>\n",
       "      <th>Magnetic field magnitude</th>\n",
       "      <th>Storm range</th>\n",
       "      <th>S/C operational mode</th>\n",
       "      <th>WIND/MFI operational mode</th>\n",
       "    </tr>\n",
       "  </thead>\n",
       "  <tbody>\n",
       "    <tr>\n",
       "      <th>0</th>\n",
       "      <td>2022-01-01 00:00:00.078</td>\n",
       "      <td>-5.987128</td>\n",
       "      <td>2.666523</td>\n",
       "      <td>-5.138955</td>\n",
       "      <td>8.328560</td>\n",
       "      <td>1</td>\n",
       "      <td>1</td>\n",
       "      <td>11</td>\n",
       "    </tr>\n",
       "    <tr>\n",
       "      <th>1</th>\n",
       "      <td>2022-01-01 00:00:00.170</td>\n",
       "      <td>-5.991735</td>\n",
       "      <td>2.682342</td>\n",
       "      <td>-5.102776</td>\n",
       "      <td>8.314696</td>\n",
       "      <td>1</td>\n",
       "      <td>1</td>\n",
       "      <td>11</td>\n",
       "    </tr>\n",
       "    <tr>\n",
       "      <th>2</th>\n",
       "      <td>2022-01-01 00:00:00.262</td>\n",
       "      <td>-6.024165</td>\n",
       "      <td>2.690811</td>\n",
       "      <td>-5.060466</td>\n",
       "      <td>8.315007</td>\n",
       "      <td>1</td>\n",
       "      <td>1</td>\n",
       "      <td>11</td>\n",
       "    </tr>\n",
       "    <tr>\n",
       "      <th>3</th>\n",
       "      <td>2022-01-01 00:00:00.354</td>\n",
       "      <td>-6.029044</td>\n",
       "      <td>2.691353</td>\n",
       "      <td>-5.057029</td>\n",
       "      <td>8.316628</td>\n",
       "      <td>1</td>\n",
       "      <td>1</td>\n",
       "      <td>11</td>\n",
       "    </tr>\n",
       "    <tr>\n",
       "      <th>4</th>\n",
       "      <td>2022-01-01 00:00:00.446</td>\n",
       "      <td>-6.059289</td>\n",
       "      <td>2.698425</td>\n",
       "      <td>-5.075548</td>\n",
       "      <td>8.352105</td>\n",
       "      <td>1</td>\n",
       "      <td>1</td>\n",
       "      <td>11</td>\n",
       "    </tr>\n",
       "    <tr>\n",
       "      <th>5</th>\n",
       "      <td>2022-01-01 00:00:00.538</td>\n",
       "      <td>-6.049378</td>\n",
       "      <td>2.700330</td>\n",
       "      <td>-5.079763</td>\n",
       "      <td>8.348100</td>\n",
       "      <td>1</td>\n",
       "      <td>1</td>\n",
       "      <td>11</td>\n",
       "    </tr>\n",
       "    <tr>\n",
       "      <th>6</th>\n",
       "      <td>2022-01-01 00:00:00.630</td>\n",
       "      <td>-6.095523</td>\n",
       "      <td>2.685486</td>\n",
       "      <td>-5.074874</td>\n",
       "      <td>8.373863</td>\n",
       "      <td>1</td>\n",
       "      <td>1</td>\n",
       "      <td>11</td>\n",
       "    </tr>\n",
       "    <tr>\n",
       "      <th>7</th>\n",
       "      <td>2022-01-01 00:00:00.722</td>\n",
       "      <td>-6.129284</td>\n",
       "      <td>2.644819</td>\n",
       "      <td>-5.112437</td>\n",
       "      <td>8.408341</td>\n",
       "      <td>1</td>\n",
       "      <td>1</td>\n",
       "      <td>11</td>\n",
       "    </tr>\n",
       "    <tr>\n",
       "      <th>8</th>\n",
       "      <td>2022-01-01 00:00:00.814</td>\n",
       "      <td>-6.154401</td>\n",
       "      <td>2.650718</td>\n",
       "      <td>-5.110364</td>\n",
       "      <td>8.427264</td>\n",
       "      <td>1</td>\n",
       "      <td>1</td>\n",
       "      <td>11</td>\n",
       "    </tr>\n",
       "    <tr>\n",
       "      <th>9</th>\n",
       "      <td>2022-01-01 00:00:00.906</td>\n",
       "      <td>-6.170061</td>\n",
       "      <td>2.632748</td>\n",
       "      <td>-5.112915</td>\n",
       "      <td>8.434626</td>\n",
       "      <td>1</td>\n",
       "      <td>1</td>\n",
       "      <td>11</td>\n",
       "    </tr>\n",
       "  </tbody>\n",
       "</table>\n",
       "</div>"
      ],
      "text/plain": [
       "                    Epoch        Bx        By        Bz  \\\n",
       "0 2022-01-01 00:00:00.078 -5.987128  2.666523 -5.138955   \n",
       "1 2022-01-01 00:00:00.170 -5.991735  2.682342 -5.102776   \n",
       "2 2022-01-01 00:00:00.262 -6.024165  2.690811 -5.060466   \n",
       "3 2022-01-01 00:00:00.354 -6.029044  2.691353 -5.057029   \n",
       "4 2022-01-01 00:00:00.446 -6.059289  2.698425 -5.075548   \n",
       "5 2022-01-01 00:00:00.538 -6.049378  2.700330 -5.079763   \n",
       "6 2022-01-01 00:00:00.630 -6.095523  2.685486 -5.074874   \n",
       "7 2022-01-01 00:00:00.722 -6.129284  2.644819 -5.112437   \n",
       "8 2022-01-01 00:00:00.814 -6.154401  2.650718 -5.110364   \n",
       "9 2022-01-01 00:00:00.906 -6.170061  2.632748 -5.112915   \n",
       "\n",
       "   Magnetic field magnitude  Storm range  S/C operational mode  \\\n",
       "0                  8.328560            1                     1   \n",
       "1                  8.314696            1                     1   \n",
       "2                  8.315007            1                     1   \n",
       "3                  8.316628            1                     1   \n",
       "4                  8.352105            1                     1   \n",
       "5                  8.348100            1                     1   \n",
       "6                  8.373863            1                     1   \n",
       "7                  8.408341            1                     1   \n",
       "8                  8.427264            1                     1   \n",
       "9                  8.434626            1                     1   \n",
       "\n",
       "   WIND/MFI operational mode  \n",
       "0                         11  \n",
       "1                         11  \n",
       "2                         11  \n",
       "3                         11  \n",
       "4                         11  \n",
       "5                         11  \n",
       "6                         11  \n",
       "7                         11  \n",
       "8                         11  \n",
       "9                         11  "
      ]
     },
     "execution_count": 92,
     "metadata": {},
     "output_type": "execute_result"
    }
   ],
   "source": [
    "df.head(10)"
   ]
  },
  {
   "cell_type": "markdown",
   "metadata": {},
   "source": [
    "# Regressão linear - Target: Magnetic field magnitude"
   ]
  },
  {
   "cell_type": "code",
   "execution_count": 110,
   "metadata": {},
   "outputs": [
    {
     "ename": "KeyError",
     "evalue": "\"None of [Index(['Bx', 'By', 'Bz', 'Storm range', 'Epoch', 'S/C operational mode',\\n       'WIND/MFI operational mode'],\\n      dtype='object')] are in the [columns]\"",
     "output_type": "error",
     "traceback": [
      "\u001b[1;31m---------------------------------------------------------------------------\u001b[0m",
      "\u001b[1;31mKeyError\u001b[0m                                  Traceback (most recent call last)",
      "\u001b[1;32mc:\\Users\\marce\\dev\\hackathon\\sunWindPredictor.ipynb Cell 55\u001b[0m in \u001b[0;36m<cell line: 3>\u001b[1;34m()\u001b[0m\n\u001b[0;32m      <a href='vscode-notebook-cell:/c%3A/Users/marce/dev/hackathon/sunWindPredictor.ipynb#X64sZmlsZQ%3D%3D?line=0'>1</a>\u001b[0m \u001b[39mfrom\u001b[39;00m \u001b[39msklearn\u001b[39;00m\u001b[39m.\u001b[39;00m\u001b[39mmodel_selection\u001b[39;00m \u001b[39mimport\u001b[39;00m train_test_split\n\u001b[1;32m----> <a href='vscode-notebook-cell:/c%3A/Users/marce/dev/hackathon/sunWindPredictor.ipynb#X64sZmlsZQ%3D%3D?line=2'>3</a>\u001b[0m x_entrada \u001b[39m=\u001b[39m df2[[\u001b[39m'\u001b[39;49m\u001b[39mBx\u001b[39;49m\u001b[39m'\u001b[39;49m,\u001b[39m'\u001b[39;49m\u001b[39mBy\u001b[39;49m\u001b[39m'\u001b[39;49m,\u001b[39m'\u001b[39;49m\u001b[39mBz\u001b[39;49m\u001b[39m'\u001b[39;49m, \u001b[39m'\u001b[39;49m\u001b[39mStorm range\u001b[39;49m\u001b[39m'\u001b[39;49m, \u001b[39m'\u001b[39;49m\u001b[39mEpoch\u001b[39;49m\u001b[39m'\u001b[39;49m,\n\u001b[0;32m      <a href='vscode-notebook-cell:/c%3A/Users/marce/dev/hackathon/sunWindPredictor.ipynb#X64sZmlsZQ%3D%3D?line=3'>4</a>\u001b[0m                 \u001b[39m'\u001b[39;49m\u001b[39mS/C operational mode\u001b[39;49m\u001b[39m'\u001b[39;49m, \u001b[39m'\u001b[39;49m\u001b[39mWIND/MFI operational mode\u001b[39;49m\u001b[39m'\u001b[39;49m]]\u001b[39m.\u001b[39mvalues\n\u001b[0;32m      <a href='vscode-notebook-cell:/c%3A/Users/marce/dev/hackathon/sunWindPredictor.ipynb#X64sZmlsZQ%3D%3D?line=5'>6</a>\u001b[0m y_saida \u001b[39m=\u001b[39m df2[\u001b[39m'\u001b[39m\u001b[39mMagnetic field magnitude\u001b[39m\u001b[39m'\u001b[39m]\u001b[39m.\u001b[39mvalues\n\u001b[0;32m      <a href='vscode-notebook-cell:/c%3A/Users/marce/dev/hackathon/sunWindPredictor.ipynb#X64sZmlsZQ%3D%3D?line=6'>7</a>\u001b[0m \u001b[39m# 'Epoch'\u001b[39;00m\n",
      "File \u001b[1;32mc:\\Users\\marce\\anaconda3\\lib\\site-packages\\pandas\\core\\frame.py:3511\u001b[0m, in \u001b[0;36mDataFrame.__getitem__\u001b[1;34m(self, key)\u001b[0m\n\u001b[0;32m   3509\u001b[0m     \u001b[39mif\u001b[39;00m is_iterator(key):\n\u001b[0;32m   3510\u001b[0m         key \u001b[39m=\u001b[39m \u001b[39mlist\u001b[39m(key)\n\u001b[1;32m-> 3511\u001b[0m     indexer \u001b[39m=\u001b[39m \u001b[39mself\u001b[39;49m\u001b[39m.\u001b[39;49mcolumns\u001b[39m.\u001b[39;49m_get_indexer_strict(key, \u001b[39m\"\u001b[39;49m\u001b[39mcolumns\u001b[39;49m\u001b[39m\"\u001b[39;49m)[\u001b[39m1\u001b[39m]\n\u001b[0;32m   3513\u001b[0m \u001b[39m# take() does not accept boolean indexers\u001b[39;00m\n\u001b[0;32m   3514\u001b[0m \u001b[39mif\u001b[39;00m \u001b[39mgetattr\u001b[39m(indexer, \u001b[39m\"\u001b[39m\u001b[39mdtype\u001b[39m\u001b[39m\"\u001b[39m, \u001b[39mNone\u001b[39;00m) \u001b[39m==\u001b[39m \u001b[39mbool\u001b[39m:\n",
      "File \u001b[1;32mc:\\Users\\marce\\anaconda3\\lib\\site-packages\\pandas\\core\\indexes\\base.py:5782\u001b[0m, in \u001b[0;36mIndex._get_indexer_strict\u001b[1;34m(self, key, axis_name)\u001b[0m\n\u001b[0;32m   5779\u001b[0m \u001b[39melse\u001b[39;00m:\n\u001b[0;32m   5780\u001b[0m     keyarr, indexer, new_indexer \u001b[39m=\u001b[39m \u001b[39mself\u001b[39m\u001b[39m.\u001b[39m_reindex_non_unique(keyarr)\n\u001b[1;32m-> 5782\u001b[0m \u001b[39mself\u001b[39;49m\u001b[39m.\u001b[39;49m_raise_if_missing(keyarr, indexer, axis_name)\n\u001b[0;32m   5784\u001b[0m keyarr \u001b[39m=\u001b[39m \u001b[39mself\u001b[39m\u001b[39m.\u001b[39mtake(indexer)\n\u001b[0;32m   5785\u001b[0m \u001b[39mif\u001b[39;00m \u001b[39misinstance\u001b[39m(key, Index):\n\u001b[0;32m   5786\u001b[0m     \u001b[39m# GH 42790 - Preserve name from an Index\u001b[39;00m\n",
      "File \u001b[1;32mc:\\Users\\marce\\anaconda3\\lib\\site-packages\\pandas\\core\\indexes\\base.py:5842\u001b[0m, in \u001b[0;36mIndex._raise_if_missing\u001b[1;34m(self, key, indexer, axis_name)\u001b[0m\n\u001b[0;32m   5840\u001b[0m     \u001b[39mif\u001b[39;00m use_interval_msg:\n\u001b[0;32m   5841\u001b[0m         key \u001b[39m=\u001b[39m \u001b[39mlist\u001b[39m(key)\n\u001b[1;32m-> 5842\u001b[0m     \u001b[39mraise\u001b[39;00m \u001b[39mKeyError\u001b[39;00m(\u001b[39mf\u001b[39m\u001b[39m\"\u001b[39m\u001b[39mNone of [\u001b[39m\u001b[39m{\u001b[39;00mkey\u001b[39m}\u001b[39;00m\u001b[39m] are in the [\u001b[39m\u001b[39m{\u001b[39;00maxis_name\u001b[39m}\u001b[39;00m\u001b[39m]\u001b[39m\u001b[39m\"\u001b[39m)\n\u001b[0;32m   5844\u001b[0m not_found \u001b[39m=\u001b[39m \u001b[39mlist\u001b[39m(ensure_index(key)[missing_mask\u001b[39m.\u001b[39mnonzero()[\u001b[39m0\u001b[39m]]\u001b[39m.\u001b[39munique())\n\u001b[0;32m   5845\u001b[0m \u001b[39mraise\u001b[39;00m \u001b[39mKeyError\u001b[39;00m(\u001b[39mf\u001b[39m\u001b[39m\"\u001b[39m\u001b[39m{\u001b[39;00mnot_found\u001b[39m}\u001b[39;00m\u001b[39m not in index\u001b[39m\u001b[39m\"\u001b[39m)\n",
      "\u001b[1;31mKeyError\u001b[0m: \"None of [Index(['Bx', 'By', 'Bz', 'Storm range', 'Epoch', 'S/C operational mode',\\n       'WIND/MFI operational mode'],\\n      dtype='object')] are in the [columns]\""
     ]
    }
   ],
   "source": [
    "from sklearn.model_selection import train_test_split\n",
    "\n",
    "x_entrada = df[['Bx','By','Bz', 'Storm range', 'Epoch',\n",
    "                'S/C operational mode', 'WIND/MFI operational mode']].values\n",
    "\n",
    "y_saida = df['Magnetic field magnitude'].values\n",
    "# 'Epoch'\n",
    "X_train, X_test, Y_train, Y_test = train_test_split(x_entrada, y_saida, \n",
    "                                                    test_size = 0.3, \n",
    "                                                    random_state = 42)"
   ]
  },
  {
   "cell_type": "code",
   "execution_count": null,
   "metadata": {},
   "outputs": [],
   "source": [
    "from sklearn.linear_model import LinearRegression\n",
    "\n",
    "model = LinearRegression().fit(X_train, Y_train)\n",
    "Y_pred = model.predict(X_test)\n",
    "Y_pred"
   ]
  },
  {
   "cell_type": "code",
   "execution_count": null,
   "metadata": {},
   "outputs": [],
   "source": [
    "!pip install nsepy"
   ]
  },
  {
   "cell_type": "code",
   "execution_count": null,
   "metadata": {},
   "outputs": [
    {
     "ename": "NameError",
     "evalue": "name 'model' is not defined",
     "output_type": "error",
     "traceback": [
      "\u001b[1;31m---------------------------------------------------------------------------\u001b[0m",
      "\u001b[1;31mNameError\u001b[0m                                 Traceback (most recent call last)",
      "\u001b[1;32mc:\\Users\\marce\\dev\\hackathon\\sunWindPredictor.ipynb Cell 61\u001b[0m in \u001b[0;36m<cell line: 3>\u001b[1;34m()\u001b[0m\n\u001b[0;32m      <a href='vscode-notebook-cell:/c%3A/Users/marce/dev/hackathon/sunWindPredictor.ipynb#Y103sZmlsZQ%3D%3D?line=0'>1</a>\u001b[0m \u001b[39mfrom\u001b[39;00m \u001b[39msklearn\u001b[39;00m\u001b[39m.\u001b[39;00m\u001b[39mmetrics\u001b[39;00m \u001b[39mimport\u001b[39;00m r2_score, mean_squared_error, mean_absolute_error\n\u001b[1;32m----> <a href='vscode-notebook-cell:/c%3A/Users/marce/dev/hackathon/sunWindPredictor.ipynb#Y103sZmlsZQ%3D%3D?line=2'>3</a>\u001b[0m \u001b[39mprint\u001b[39m(\u001b[39m'\u001b[39m\u001b[39mAcuracidade (treino): \u001b[39m\u001b[39m'\u001b[39m, model\u001b[39m.\u001b[39mscore(X_train, Y_train))\n\u001b[0;32m      <a href='vscode-notebook-cell:/c%3A/Users/marce/dev/hackathon/sunWindPredictor.ipynb#Y103sZmlsZQ%3D%3D?line=3'>4</a>\u001b[0m \u001b[39mprint\u001b[39m(\u001b[39m'\u001b[39m\u001b[39mAcuracidade (teste): \u001b[39m\u001b[39m'\u001b[39m, model\u001b[39m.\u001b[39mscore(X_test, Y_test))\n\u001b[0;32m      <a href='vscode-notebook-cell:/c%3A/Users/marce/dev/hackathon/sunWindPredictor.ipynb#Y103sZmlsZQ%3D%3D?line=4'>5</a>\u001b[0m \u001b[39mprint\u001b[39m(\u001b[39m'\u001b[39m\u001b[39mR2 score: \u001b[39m\u001b[39m'\u001b[39m, r2_score(Y_test, Y_pred))\n",
      "\u001b[1;31mNameError\u001b[0m: name 'model' is not defined"
     ]
    }
   ],
   "source": [
    "from sklearn.metrics import r2_score, mean_squared_error, mean_absolute_error\n",
    "\n",
    "print('Acuracidade (treino): ', model.score(X_train, Y_train))\n",
    "print('Acuracidade (teste): ', model.score(X_test, Y_test))\n",
    "print('R2 score: ', r2_score(Y_test, Y_pred))\n",
    "print('Mean squared error: ', mean_squared_error(Y_test, Y_pred))\n",
    "print('Mean absolute error: ', mean_absolute_error(Y_test, Y_pred))"
   ]
  },
  {
   "cell_type": "code",
   "execution_count": null,
   "metadata": {},
   "outputs": [],
   "source": [
    "print(Y_pred)"
   ]
  },
  {
   "cell_type": "code",
   "execution_count": null,
   "metadata": {},
   "outputs": [],
   "source": [
    "Y_pred2 = model.predict(X_train)\n",
    "Y_pred2"
   ]
  },
  {
   "cell_type": "code",
   "execution_count": null,
   "metadata": {},
   "outputs": [],
   "source": [
    "Y_pred_total = np.concatenate((Y_pred2, Y_pred), axis=0)\n",
    "print(len(Y_pred_total))"
   ]
  },
  {
   "cell_type": "code",
   "execution_count": null,
   "metadata": {},
   "outputs": [],
   "source": [
    "df2['Prediction'] = Y_pred_total\n",
    "df2.describe()"
   ]
  },
  {
   "cell_type": "code",
   "execution_count": null,
   "metadata": {},
   "outputs": [
    {
     "ename": "KeyError",
     "evalue": "'Prediction'",
     "output_type": "error",
     "traceback": [
      "\u001b[1;31m---------------------------------------------------------------------------\u001b[0m",
      "\u001b[1;31mKeyError\u001b[0m                                  Traceback (most recent call last)",
      "File \u001b[1;32mc:\\Users\\marce\\anaconda3\\lib\\site-packages\\pandas\\core\\indexes\\base.py:3621\u001b[0m, in \u001b[0;36mIndex.get_loc\u001b[1;34m(self, key, method, tolerance)\u001b[0m\n\u001b[0;32m   3620\u001b[0m \u001b[39mtry\u001b[39;00m:\n\u001b[1;32m-> 3621\u001b[0m     \u001b[39mreturn\u001b[39;00m \u001b[39mself\u001b[39;49m\u001b[39m.\u001b[39;49m_engine\u001b[39m.\u001b[39;49mget_loc(casted_key)\n\u001b[0;32m   3622\u001b[0m \u001b[39mexcept\u001b[39;00m \u001b[39mKeyError\u001b[39;00m \u001b[39mas\u001b[39;00m err:\n",
      "File \u001b[1;32mc:\\Users\\marce\\anaconda3\\lib\\site-packages\\pandas\\_libs\\index.pyx:136\u001b[0m, in \u001b[0;36mpandas._libs.index.IndexEngine.get_loc\u001b[1;34m()\u001b[0m\n",
      "File \u001b[1;32mc:\\Users\\marce\\anaconda3\\lib\\site-packages\\pandas\\_libs\\index.pyx:163\u001b[0m, in \u001b[0;36mpandas._libs.index.IndexEngine.get_loc\u001b[1;34m()\u001b[0m\n",
      "File \u001b[1;32mpandas\\_libs\\hashtable_class_helper.pxi:5198\u001b[0m, in \u001b[0;36mpandas._libs.hashtable.PyObjectHashTable.get_item\u001b[1;34m()\u001b[0m\n",
      "File \u001b[1;32mpandas\\_libs\\hashtable_class_helper.pxi:5206\u001b[0m, in \u001b[0;36mpandas._libs.hashtable.PyObjectHashTable.get_item\u001b[1;34m()\u001b[0m\n",
      "\u001b[1;31mKeyError\u001b[0m: 'Prediction'",
      "\nThe above exception was the direct cause of the following exception:\n",
      "\u001b[1;31mKeyError\u001b[0m                                  Traceback (most recent call last)",
      "\u001b[1;32mc:\\Users\\marce\\dev\\hackathon\\sunWindPredictor.ipynb Cell 66\u001b[0m in \u001b[0;36m<cell line: 2>\u001b[1;34m()\u001b[0m\n\u001b[0;32m      <a href='vscode-notebook-cell:/c%3A/Users/marce/dev/hackathon/sunWindPredictor.ipynb#Y111sZmlsZQ%3D%3D?line=0'>1</a>\u001b[0m \u001b[39m# Rescale Prediction from 0 to 10 \u001b[39;00m\n\u001b[1;32m----> <a href='vscode-notebook-cell:/c%3A/Users/marce/dev/hackathon/sunWindPredictor.ipynb#Y111sZmlsZQ%3D%3D?line=1'>2</a>\u001b[0m df2[\u001b[39m'\u001b[39m\u001b[39mPrediction\u001b[39m\u001b[39m'\u001b[39m] \u001b[39m=\u001b[39m df2[\u001b[39m'\u001b[39;49m\u001b[39mPrediction\u001b[39;49m\u001b[39m'\u001b[39;49m] \u001b[39m/\u001b[39m df2[\u001b[39m'\u001b[39m\u001b[39mPrediction\u001b[39m\u001b[39m'\u001b[39m]\u001b[39m.\u001b[39mmax() \u001b[39m*\u001b[39m \u001b[39m10\u001b[39m\n\u001b[0;32m      <a href='vscode-notebook-cell:/c%3A/Users/marce/dev/hackathon/sunWindPredictor.ipynb#Y111sZmlsZQ%3D%3D?line=2'>3</a>\u001b[0m df2[\u001b[39m'\u001b[39m\u001b[39mPrediction\u001b[39m\u001b[39m'\u001b[39m] \u001b[39m=\u001b[39m df2[\u001b[39m'\u001b[39m\u001b[39mPrediction\u001b[39m\u001b[39m'\u001b[39m]\u001b[39m.\u001b[39mround(\u001b[39m2\u001b[39m)\n\u001b[0;32m      <a href='vscode-notebook-cell:/c%3A/Users/marce/dev/hackathon/sunWindPredictor.ipynb#Y111sZmlsZQ%3D%3D?line=3'>4</a>\u001b[0m df2\u001b[39m.\u001b[39mhead()\n",
      "File \u001b[1;32mc:\\Users\\marce\\anaconda3\\lib\\site-packages\\pandas\\core\\frame.py:3505\u001b[0m, in \u001b[0;36mDataFrame.__getitem__\u001b[1;34m(self, key)\u001b[0m\n\u001b[0;32m   3503\u001b[0m \u001b[39mif\u001b[39;00m \u001b[39mself\u001b[39m\u001b[39m.\u001b[39mcolumns\u001b[39m.\u001b[39mnlevels \u001b[39m>\u001b[39m \u001b[39m1\u001b[39m:\n\u001b[0;32m   3504\u001b[0m     \u001b[39mreturn\u001b[39;00m \u001b[39mself\u001b[39m\u001b[39m.\u001b[39m_getitem_multilevel(key)\n\u001b[1;32m-> 3505\u001b[0m indexer \u001b[39m=\u001b[39m \u001b[39mself\u001b[39;49m\u001b[39m.\u001b[39;49mcolumns\u001b[39m.\u001b[39;49mget_loc(key)\n\u001b[0;32m   3506\u001b[0m \u001b[39mif\u001b[39;00m is_integer(indexer):\n\u001b[0;32m   3507\u001b[0m     indexer \u001b[39m=\u001b[39m [indexer]\n",
      "File \u001b[1;32mc:\\Users\\marce\\anaconda3\\lib\\site-packages\\pandas\\core\\indexes\\base.py:3623\u001b[0m, in \u001b[0;36mIndex.get_loc\u001b[1;34m(self, key, method, tolerance)\u001b[0m\n\u001b[0;32m   3621\u001b[0m     \u001b[39mreturn\u001b[39;00m \u001b[39mself\u001b[39m\u001b[39m.\u001b[39m_engine\u001b[39m.\u001b[39mget_loc(casted_key)\n\u001b[0;32m   3622\u001b[0m \u001b[39mexcept\u001b[39;00m \u001b[39mKeyError\u001b[39;00m \u001b[39mas\u001b[39;00m err:\n\u001b[1;32m-> 3623\u001b[0m     \u001b[39mraise\u001b[39;00m \u001b[39mKeyError\u001b[39;00m(key) \u001b[39mfrom\u001b[39;00m \u001b[39merr\u001b[39;00m\n\u001b[0;32m   3624\u001b[0m \u001b[39mexcept\u001b[39;00m \u001b[39mTypeError\u001b[39;00m:\n\u001b[0;32m   3625\u001b[0m     \u001b[39m# If we have a listlike key, _check_indexing_error will raise\u001b[39;00m\n\u001b[0;32m   3626\u001b[0m     \u001b[39m#  InvalidIndexError. Otherwise we fall through and re-raise\u001b[39;00m\n\u001b[0;32m   3627\u001b[0m     \u001b[39m#  the TypeError.\u001b[39;00m\n\u001b[0;32m   3628\u001b[0m     \u001b[39mself\u001b[39m\u001b[39m.\u001b[39m_check_indexing_error(key)\n",
      "\u001b[1;31mKeyError\u001b[0m: 'Prediction'"
     ]
    }
   ],
   "source": [
    "# Rescale Prediction from 0 to 10 \n",
    "df2['Prediction'] = df2['Prediction'] / df2['Prediction'].max() * 10\n",
    "df2['Prediction'] = df2['Prediction'].round(2)\n",
    "df2.head()"
   ]
  },
  {
   "cell_type": "markdown",
   "metadata": {},
   "source": [
    "## Saving model"
   ]
  },
  {
   "cell_type": "code",
   "execution_count": null,
   "metadata": {},
   "outputs": [],
   "source": [
    "import pickle\n",
    "import joblib as jbl  \n",
    "\n",
    "saved_model = pickle.dumps(model)\n",
    "jbl.dump(model, 'model.pkl')\n",
    "  \n",
    "# Load the pickled model\n",
    "modelPickle = pickle.loads(saved_model)\n",
    "  \n",
    "# Use the loaded pickled model to make predictions\n",
    "modelPickle.predict(X_test)\n",
    "\n",
    "df2.to_csv('dataframe2.csv', index=False)"
   ]
  },
  {
   "cell_type": "markdown",
   "metadata": {},
   "source": [
    "## Arima Model"
   ]
  },
  {
   "cell_type": "code",
   "execution_count": null,
   "metadata": {},
   "outputs": [],
   "source": [
    "import pandas as pd\n",
    "import numpy as np\n",
    "from scalecast.Forecaster import Forecaster\n",
    "from pmdarima import auto_arima\n",
    "import matplotlib.pyplot as plt\n",
    "import seaborn as sns\n",
    "\n",
    "sns.set(rc={'figure.figsize':(14,7)})"
   ]
  },
  {
   "cell_type": "code",
   "execution_count": null,
   "metadata": {},
   "outputs": [],
   "source": [
    "fs = Forecaster(\n",
    "  y = df['Magnetic field magnitude'],\n",
    "  model = auto_arima,\n",
    "  current_dates = df['Epoch'],\n",
    "  freq = 'D',\n",
    ")"
   ]
  },
  {
   "cell_type": "code",
   "execution_count": null,
   "metadata": {},
   "outputs": [],
   "source": [
    "fs.generate_future_dates(7) \n",
    "fs.set_test_length(.2)\n",
    "fs.set_estimator('arima')\n",
    "fs.manual_forecast(call_me='arima1')"
   ]
  },
  {
   "cell_type": "code",
   "execution_count": null,
   "metadata": {},
   "outputs": [],
   "source": [
    "f.generate_future_dates(7) \n",
    "f.set_test_length(.2)\n",
    "f.set_estimator('arima')\n",
    "f.manual_forecast(call_me='arima1')"
   ]
  },
  {
   "cell_type": "code",
   "execution_count": null,
   "metadata": {},
   "outputs": [],
   "source": [
    "f.plot_test_set(ci=True)\n",
    "plt.title('ARIMA Test-Set Performance',size=14)\n",
    "plt.show()"
   ]
  }
 ],
 "metadata": {
  "kernelspec": {
   "display_name": "Python 3.10.5 64-bit",
   "language": "python",
   "name": "python3"
  },
  "language_info": {
   "codemirror_mode": {
    "name": "ipython",
    "version": 3
   },
   "file_extension": ".py",
   "mimetype": "text/x-python",
   "name": "python",
   "nbconvert_exporter": "python",
   "pygments_lexer": "ipython3",
   "version": "3.10.5"
  },
  "orig_nbformat": 4,
  "vscode": {
   "interpreter": {
    "hash": "e7370f93d1d0cde622a1f8e1c04877d8463912d04d973331ad4851f04de6915a"
   }
  }
 },
 "nbformat": 4,
 "nbformat_minor": 2
}
